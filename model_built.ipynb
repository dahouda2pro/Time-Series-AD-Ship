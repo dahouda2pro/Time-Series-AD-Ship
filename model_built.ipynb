{
 "cells": [
  {
   "cell_type": "markdown",
   "metadata": {},
   "source": [
    "# 1. Importing The Libraries"
   ]
  },
  {
   "cell_type": "code",
   "execution_count": 3,
   "metadata": {},
   "outputs": [],
   "source": [
    "import numpy as np\n",
    "import pandas as pd\n",
    "from sklearn.model_selection import train_test_split\n",
    "from sklearn import svm\n",
    "from sklearn.metrics import accuracy_score"
   ]
  },
  {
   "cell_type": "markdown",
   "metadata": {},
   "source": [
    "# 2. Data Loading"
   ]
  },
  {
   "cell_type": "code",
   "execution_count": 4,
   "metadata": {},
   "outputs": [
    {
     "data": {
      "text/html": [
       "<div>\n",
       "<style scoped>\n",
       "    .dataframe tbody tr th:only-of-type {\n",
       "        vertical-align: middle;\n",
       "    }\n",
       "\n",
       "    .dataframe tbody tr th {\n",
       "        vertical-align: top;\n",
       "    }\n",
       "\n",
       "    .dataframe thead th {\n",
       "        text-align: right;\n",
       "    }\n",
       "</style>\n",
       "<table border=\"1\" class=\"dataframe\">\n",
       "  <thead>\n",
       "    <tr style=\"text-align: right;\">\n",
       "      <th></th>\n",
       "      <th>real ExhGasInletTempA</th>\n",
       "      <th>real ExhGasOutletTemp</th>\n",
       "      <th>real LOInletPress</th>\n",
       "      <th>real LOOutletTemp</th>\n",
       "      <th>real RPM</th>\n",
       "      <th>Anomaly</th>\n",
       "    </tr>\n",
       "  </thead>\n",
       "  <tbody>\n",
       "    <tr>\n",
       "      <th>0</th>\n",
       "      <td>407.5</td>\n",
       "      <td>361.0</td>\n",
       "      <td>3.580</td>\n",
       "      <td>75.35</td>\n",
       "      <td>19455.0</td>\n",
       "      <td>0</td>\n",
       "    </tr>\n",
       "    <tr>\n",
       "      <th>1</th>\n",
       "      <td>418.0</td>\n",
       "      <td>355.0</td>\n",
       "      <td>3.530</td>\n",
       "      <td>76.90</td>\n",
       "      <td>22935.0</td>\n",
       "      <td>0</td>\n",
       "    </tr>\n",
       "    <tr>\n",
       "      <th>2</th>\n",
       "      <td>402.0</td>\n",
       "      <td>347.0</td>\n",
       "      <td>3.630</td>\n",
       "      <td>76.60</td>\n",
       "      <td>17400.0</td>\n",
       "      <td>0</td>\n",
       "    </tr>\n",
       "    <tr>\n",
       "      <th>3</th>\n",
       "      <td>393.0</td>\n",
       "      <td>351.0</td>\n",
       "      <td>3.615</td>\n",
       "      <td>75.00</td>\n",
       "      <td>16515.0</td>\n",
       "      <td>0</td>\n",
       "    </tr>\n",
       "    <tr>\n",
       "      <th>4</th>\n",
       "      <td>419.0</td>\n",
       "      <td>362.0</td>\n",
       "      <td>3.530</td>\n",
       "      <td>76.05</td>\n",
       "      <td>22635.0</td>\n",
       "      <td>0</td>\n",
       "    </tr>\n",
       "    <tr>\n",
       "      <th>...</th>\n",
       "      <td>...</td>\n",
       "      <td>...</td>\n",
       "      <td>...</td>\n",
       "      <td>...</td>\n",
       "      <td>...</td>\n",
       "      <td>...</td>\n",
       "    </tr>\n",
       "    <tr>\n",
       "      <th>790</th>\n",
       "      <td>392.0</td>\n",
       "      <td>348.0</td>\n",
       "      <td>3.630</td>\n",
       "      <td>75.00</td>\n",
       "      <td>16590.0</td>\n",
       "      <td>0</td>\n",
       "    </tr>\n",
       "    <tr>\n",
       "      <th>791</th>\n",
       "      <td>403.5</td>\n",
       "      <td>359.0</td>\n",
       "      <td>3.575</td>\n",
       "      <td>75.15</td>\n",
       "      <td>18915.0</td>\n",
       "      <td>0</td>\n",
       "    </tr>\n",
       "    <tr>\n",
       "      <th>792</th>\n",
       "      <td>414.5</td>\n",
       "      <td>355.5</td>\n",
       "      <td>3.540</td>\n",
       "      <td>76.60</td>\n",
       "      <td>22350.0</td>\n",
       "      <td>0</td>\n",
       "    </tr>\n",
       "    <tr>\n",
       "      <th>793</th>\n",
       "      <td>395.0</td>\n",
       "      <td>346.0</td>\n",
       "      <td>3.630</td>\n",
       "      <td>76.00</td>\n",
       "      <td>16920.0</td>\n",
       "      <td>0</td>\n",
       "    </tr>\n",
       "    <tr>\n",
       "      <th>794</th>\n",
       "      <td>392.5</td>\n",
       "      <td>350.5</td>\n",
       "      <td>3.615</td>\n",
       "      <td>74.90</td>\n",
       "      <td>16740.0</td>\n",
       "      <td>0</td>\n",
       "    </tr>\n",
       "  </tbody>\n",
       "</table>\n",
       "<p>795 rows × 6 columns</p>\n",
       "</div>"
      ],
      "text/plain": [
       "     real ExhGasInletTempA  real ExhGasOutletTemp  real LOInletPress  \\\n",
       "0                    407.5                  361.0              3.580   \n",
       "1                    418.0                  355.0              3.530   \n",
       "2                    402.0                  347.0              3.630   \n",
       "3                    393.0                  351.0              3.615   \n",
       "4                    419.0                  362.0              3.530   \n",
       "..                     ...                    ...                ...   \n",
       "790                  392.0                  348.0              3.630   \n",
       "791                  403.5                  359.0              3.575   \n",
       "792                  414.5                  355.5              3.540   \n",
       "793                  395.0                  346.0              3.630   \n",
       "794                  392.5                  350.5              3.615   \n",
       "\n",
       "     real LOOutletTemp  real RPM  Anomaly  \n",
       "0                75.35   19455.0        0  \n",
       "1                76.90   22935.0        0  \n",
       "2                76.60   17400.0        0  \n",
       "3                75.00   16515.0        0  \n",
       "4                76.05   22635.0        0  \n",
       "..                 ...       ...      ...  \n",
       "790              75.00   16590.0        0  \n",
       "791              75.15   18915.0        0  \n",
       "792              76.60   22350.0        0  \n",
       "793              76.00   16920.0        0  \n",
       "794              74.90   16740.0        0  \n",
       "\n",
       "[795 rows x 6 columns]"
      ]
     },
     "execution_count": 4,
     "metadata": {},
     "output_type": "execute_result"
    }
   ],
   "source": [
    "# Loading the anomalies dataset to a DataFrame\n",
    "anomalies_data = pd.read_csv(\"Data/Anomalies_Data.csv\")\n",
    "anomalies_data"
   ]
  },
  {
   "cell_type": "code",
   "execution_count": 5,
   "metadata": {},
   "outputs": [
    {
     "data": {
      "text/plain": [
       "(795, 6)"
      ]
     },
     "execution_count": 5,
     "metadata": {},
     "output_type": "execute_result"
    }
   ],
   "source": [
    "# Number of Rows and Columns in this data\n",
    "anomalies_data.shape"
   ]
  },
  {
   "cell_type": "code",
   "execution_count": 6,
   "metadata": {},
   "outputs": [
    {
     "data": {
      "text/html": [
       "<div>\n",
       "<style scoped>\n",
       "    .dataframe tbody tr th:only-of-type {\n",
       "        vertical-align: middle;\n",
       "    }\n",
       "\n",
       "    .dataframe tbody tr th {\n",
       "        vertical-align: top;\n",
       "    }\n",
       "\n",
       "    .dataframe thead th {\n",
       "        text-align: right;\n",
       "    }\n",
       "</style>\n",
       "<table border=\"1\" class=\"dataframe\">\n",
       "  <thead>\n",
       "    <tr style=\"text-align: right;\">\n",
       "      <th></th>\n",
       "      <th>real ExhGasInletTempA</th>\n",
       "      <th>real ExhGasOutletTemp</th>\n",
       "      <th>real LOInletPress</th>\n",
       "      <th>real LOOutletTemp</th>\n",
       "      <th>real RPM</th>\n",
       "      <th>Anomaly</th>\n",
       "    </tr>\n",
       "  </thead>\n",
       "  <tbody>\n",
       "    <tr>\n",
       "      <th>count</th>\n",
       "      <td>795.000000</td>\n",
       "      <td>795.000000</td>\n",
       "      <td>795.000000</td>\n",
       "      <td>795.000000</td>\n",
       "      <td>795.000000</td>\n",
       "      <td>795.000000</td>\n",
       "    </tr>\n",
       "    <tr>\n",
       "      <th>mean</th>\n",
       "      <td>404.038365</td>\n",
       "      <td>353.132075</td>\n",
       "      <td>3.588119</td>\n",
       "      <td>75.738239</td>\n",
       "      <td>19434.000000</td>\n",
       "      <td>0.012579</td>\n",
       "    </tr>\n",
       "    <tr>\n",
       "      <th>std</th>\n",
       "      <td>11.224528</td>\n",
       "      <td>5.541137</td>\n",
       "      <td>0.044550</td>\n",
       "      <td>0.891029</td>\n",
       "      <td>2604.376531</td>\n",
       "      <td>0.111517</td>\n",
       "    </tr>\n",
       "    <tr>\n",
       "      <th>min</th>\n",
       "      <td>379.500000</td>\n",
       "      <td>343.000000</td>\n",
       "      <td>3.455000</td>\n",
       "      <td>73.800000</td>\n",
       "      <td>15015.000000</td>\n",
       "      <td>0.000000</td>\n",
       "    </tr>\n",
       "    <tr>\n",
       "      <th>25%</th>\n",
       "      <td>393.500000</td>\n",
       "      <td>348.000000</td>\n",
       "      <td>3.540000</td>\n",
       "      <td>75.000000</td>\n",
       "      <td>16845.000000</td>\n",
       "      <td>0.000000</td>\n",
       "    </tr>\n",
       "    <tr>\n",
       "      <th>50%</th>\n",
       "      <td>404.500000</td>\n",
       "      <td>353.000000</td>\n",
       "      <td>3.590000</td>\n",
       "      <td>75.700000</td>\n",
       "      <td>19020.000000</td>\n",
       "      <td>0.000000</td>\n",
       "    </tr>\n",
       "    <tr>\n",
       "      <th>75%</th>\n",
       "      <td>414.000000</td>\n",
       "      <td>358.500000</td>\n",
       "      <td>3.630000</td>\n",
       "      <td>76.400000</td>\n",
       "      <td>22140.000000</td>\n",
       "      <td>0.000000</td>\n",
       "    </tr>\n",
       "    <tr>\n",
       "      <th>max</th>\n",
       "      <td>434.000000</td>\n",
       "      <td>368.000000</td>\n",
       "      <td>3.670000</td>\n",
       "      <td>78.850000</td>\n",
       "      <td>25680.000000</td>\n",
       "      <td>1.000000</td>\n",
       "    </tr>\n",
       "  </tbody>\n",
       "</table>\n",
       "</div>"
      ],
      "text/plain": [
       "       real ExhGasInletTempA  real ExhGasOutletTemp  real LOInletPress  \\\n",
       "count             795.000000             795.000000         795.000000   \n",
       "mean              404.038365             353.132075           3.588119   \n",
       "std                11.224528               5.541137           0.044550   \n",
       "min               379.500000             343.000000           3.455000   \n",
       "25%               393.500000             348.000000           3.540000   \n",
       "50%               404.500000             353.000000           3.590000   \n",
       "75%               414.000000             358.500000           3.630000   \n",
       "max               434.000000             368.000000           3.670000   \n",
       "\n",
       "       real LOOutletTemp      real RPM     Anomaly  \n",
       "count         795.000000    795.000000  795.000000  \n",
       "mean           75.738239  19434.000000    0.012579  \n",
       "std             0.891029   2604.376531    0.111517  \n",
       "min            73.800000  15015.000000    0.000000  \n",
       "25%            75.000000  16845.000000    0.000000  \n",
       "50%            75.700000  19020.000000    0.000000  \n",
       "75%            76.400000  22140.000000    0.000000  \n",
       "max            78.850000  25680.000000    1.000000  "
      ]
     },
     "execution_count": 6,
     "metadata": {},
     "output_type": "execute_result"
    }
   ],
   "source": [
    "# Getting the statistical measures of the data\n",
    "anomalies_data.describe()"
   ]
  },
  {
   "cell_type": "code",
   "execution_count": 7,
   "metadata": {},
   "outputs": [
    {
     "data": {
      "text/plain": [
       "Anomaly\n",
       "0    785\n",
       "1     10\n",
       "Name: count, dtype: int64"
      ]
     },
     "execution_count": 7,
     "metadata": {},
     "output_type": "execute_result"
    }
   ],
   "source": [
    "anomalies_data['Anomaly'].value_counts()"
   ]
  },
  {
   "cell_type": "markdown",
   "metadata": {},
   "source": [
    "### 0 => Normal Data\n",
    "### 1 => Abnormal Data = Anomaly"
   ]
  },
  {
   "cell_type": "code",
   "execution_count": 8,
   "metadata": {},
   "outputs": [
    {
     "data": {
      "text/html": [
       "<div>\n",
       "<style scoped>\n",
       "    .dataframe tbody tr th:only-of-type {\n",
       "        vertical-align: middle;\n",
       "    }\n",
       "\n",
       "    .dataframe tbody tr th {\n",
       "        vertical-align: top;\n",
       "    }\n",
       "\n",
       "    .dataframe thead th {\n",
       "        text-align: right;\n",
       "    }\n",
       "</style>\n",
       "<table border=\"1\" class=\"dataframe\">\n",
       "  <thead>\n",
       "    <tr style=\"text-align: right;\">\n",
       "      <th></th>\n",
       "      <th>real ExhGasInletTempA</th>\n",
       "      <th>real ExhGasOutletTemp</th>\n",
       "      <th>real LOInletPress</th>\n",
       "      <th>real LOOutletTemp</th>\n",
       "      <th>real RPM</th>\n",
       "    </tr>\n",
       "    <tr>\n",
       "      <th>Anomaly</th>\n",
       "      <th></th>\n",
       "      <th></th>\n",
       "      <th></th>\n",
       "      <th></th>\n",
       "      <th></th>\n",
       "    </tr>\n",
       "  </thead>\n",
       "  <tbody>\n",
       "    <tr>\n",
       "      <th>0</th>\n",
       "      <td>403.828662</td>\n",
       "      <td>353.033121</td>\n",
       "      <td>3.588599</td>\n",
       "      <td>75.721656</td>\n",
       "      <td>19421.598726</td>\n",
       "    </tr>\n",
       "    <tr>\n",
       "      <th>1</th>\n",
       "      <td>420.500000</td>\n",
       "      <td>360.900000</td>\n",
       "      <td>3.550500</td>\n",
       "      <td>77.040000</td>\n",
       "      <td>20407.500000</td>\n",
       "    </tr>\n",
       "  </tbody>\n",
       "</table>\n",
       "</div>"
      ],
      "text/plain": [
       "         real ExhGasInletTempA  real ExhGasOutletTemp  real LOInletPress  \\\n",
       "Anomaly                                                                    \n",
       "0                   403.828662             353.033121           3.588599   \n",
       "1                   420.500000             360.900000           3.550500   \n",
       "\n",
       "         real LOOutletTemp      real RPM  \n",
       "Anomaly                                   \n",
       "0                75.721656  19421.598726  \n",
       "1                77.040000  20407.500000  "
      ]
     },
     "execution_count": 8,
     "metadata": {},
     "output_type": "execute_result"
    }
   ],
   "source": [
    "anomalies_data.groupby('Anomaly').mean()"
   ]
  },
  {
   "cell_type": "code",
   "execution_count": 9,
   "metadata": {},
   "outputs": [],
   "source": [
    "# Separating The Data and Labels\n",
    "X = anomalies_data.drop(columns='Anomaly', axis=1)\n",
    "Y = anomalies_data['Anomaly']"
   ]
  },
  {
   "cell_type": "code",
   "execution_count": 10,
   "metadata": {},
   "outputs": [
    {
     "data": {
      "text/html": [
       "<div>\n",
       "<style scoped>\n",
       "    .dataframe tbody tr th:only-of-type {\n",
       "        vertical-align: middle;\n",
       "    }\n",
       "\n",
       "    .dataframe tbody tr th {\n",
       "        vertical-align: top;\n",
       "    }\n",
       "\n",
       "    .dataframe thead th {\n",
       "        text-align: right;\n",
       "    }\n",
       "</style>\n",
       "<table border=\"1\" class=\"dataframe\">\n",
       "  <thead>\n",
       "    <tr style=\"text-align: right;\">\n",
       "      <th></th>\n",
       "      <th>real ExhGasInletTempA</th>\n",
       "      <th>real ExhGasOutletTemp</th>\n",
       "      <th>real LOInletPress</th>\n",
       "      <th>real LOOutletTemp</th>\n",
       "      <th>real RPM</th>\n",
       "    </tr>\n",
       "  </thead>\n",
       "  <tbody>\n",
       "    <tr>\n",
       "      <th>0</th>\n",
       "      <td>407.5</td>\n",
       "      <td>361.0</td>\n",
       "      <td>3.580</td>\n",
       "      <td>75.35</td>\n",
       "      <td>19455.0</td>\n",
       "    </tr>\n",
       "    <tr>\n",
       "      <th>1</th>\n",
       "      <td>418.0</td>\n",
       "      <td>355.0</td>\n",
       "      <td>3.530</td>\n",
       "      <td>76.90</td>\n",
       "      <td>22935.0</td>\n",
       "    </tr>\n",
       "    <tr>\n",
       "      <th>2</th>\n",
       "      <td>402.0</td>\n",
       "      <td>347.0</td>\n",
       "      <td>3.630</td>\n",
       "      <td>76.60</td>\n",
       "      <td>17400.0</td>\n",
       "    </tr>\n",
       "    <tr>\n",
       "      <th>3</th>\n",
       "      <td>393.0</td>\n",
       "      <td>351.0</td>\n",
       "      <td>3.615</td>\n",
       "      <td>75.00</td>\n",
       "      <td>16515.0</td>\n",
       "    </tr>\n",
       "    <tr>\n",
       "      <th>4</th>\n",
       "      <td>419.0</td>\n",
       "      <td>362.0</td>\n",
       "      <td>3.530</td>\n",
       "      <td>76.05</td>\n",
       "      <td>22635.0</td>\n",
       "    </tr>\n",
       "    <tr>\n",
       "      <th>...</th>\n",
       "      <td>...</td>\n",
       "      <td>...</td>\n",
       "      <td>...</td>\n",
       "      <td>...</td>\n",
       "      <td>...</td>\n",
       "    </tr>\n",
       "    <tr>\n",
       "      <th>790</th>\n",
       "      <td>392.0</td>\n",
       "      <td>348.0</td>\n",
       "      <td>3.630</td>\n",
       "      <td>75.00</td>\n",
       "      <td>16590.0</td>\n",
       "    </tr>\n",
       "    <tr>\n",
       "      <th>791</th>\n",
       "      <td>403.5</td>\n",
       "      <td>359.0</td>\n",
       "      <td>3.575</td>\n",
       "      <td>75.15</td>\n",
       "      <td>18915.0</td>\n",
       "    </tr>\n",
       "    <tr>\n",
       "      <th>792</th>\n",
       "      <td>414.5</td>\n",
       "      <td>355.5</td>\n",
       "      <td>3.540</td>\n",
       "      <td>76.60</td>\n",
       "      <td>22350.0</td>\n",
       "    </tr>\n",
       "    <tr>\n",
       "      <th>793</th>\n",
       "      <td>395.0</td>\n",
       "      <td>346.0</td>\n",
       "      <td>3.630</td>\n",
       "      <td>76.00</td>\n",
       "      <td>16920.0</td>\n",
       "    </tr>\n",
       "    <tr>\n",
       "      <th>794</th>\n",
       "      <td>392.5</td>\n",
       "      <td>350.5</td>\n",
       "      <td>3.615</td>\n",
       "      <td>74.90</td>\n",
       "      <td>16740.0</td>\n",
       "    </tr>\n",
       "  </tbody>\n",
       "</table>\n",
       "<p>795 rows × 5 columns</p>\n",
       "</div>"
      ],
      "text/plain": [
       "     real ExhGasInletTempA  real ExhGasOutletTemp  real LOInletPress  \\\n",
       "0                    407.5                  361.0              3.580   \n",
       "1                    418.0                  355.0              3.530   \n",
       "2                    402.0                  347.0              3.630   \n",
       "3                    393.0                  351.0              3.615   \n",
       "4                    419.0                  362.0              3.530   \n",
       "..                     ...                    ...                ...   \n",
       "790                  392.0                  348.0              3.630   \n",
       "791                  403.5                  359.0              3.575   \n",
       "792                  414.5                  355.5              3.540   \n",
       "793                  395.0                  346.0              3.630   \n",
       "794                  392.5                  350.5              3.615   \n",
       "\n",
       "     real LOOutletTemp  real RPM  \n",
       "0                75.35   19455.0  \n",
       "1                76.90   22935.0  \n",
       "2                76.60   17400.0  \n",
       "3                75.00   16515.0  \n",
       "4                76.05   22635.0  \n",
       "..                 ...       ...  \n",
       "790              75.00   16590.0  \n",
       "791              75.15   18915.0  \n",
       "792              76.60   22350.0  \n",
       "793              76.00   16920.0  \n",
       "794              74.90   16740.0  \n",
       "\n",
       "[795 rows x 5 columns]"
      ]
     },
     "execution_count": 10,
     "metadata": {},
     "output_type": "execute_result"
    }
   ],
   "source": [
    "X"
   ]
  },
  {
   "cell_type": "code",
   "execution_count": 11,
   "metadata": {},
   "outputs": [
    {
     "data": {
      "text/plain": [
       "0      0\n",
       "1      0\n",
       "2      0\n",
       "3      0\n",
       "4      0\n",
       "      ..\n",
       "790    0\n",
       "791    0\n",
       "792    0\n",
       "793    0\n",
       "794    0\n",
       "Name: Anomaly, Length: 795, dtype: int64"
      ]
     },
     "execution_count": 11,
     "metadata": {},
     "output_type": "execute_result"
    }
   ],
   "source": [
    "Y"
   ]
  },
  {
   "cell_type": "markdown",
   "metadata": {},
   "source": [
    "# 3. Split The Data"
   ]
  },
  {
   "cell_type": "code",
   "execution_count": 12,
   "metadata": {},
   "outputs": [],
   "source": [
    "X_train, X_test, Y_train, Y_test = train_test_split(X, Y, test_size=0.2, stratify=Y, random_state=2)"
   ]
  },
  {
   "cell_type": "code",
   "execution_count": 13,
   "metadata": {},
   "outputs": [
    {
     "name": "stdout",
     "output_type": "stream",
     "text": [
      "Data:  (795, 5)\n",
      "X Train: (636, 5)\n",
      "X Test: (159, 5)\n"
     ]
    }
   ],
   "source": [
    "print(\"Data: \", X.shape)\n",
    "print(\"X Train:\", X_train.shape)\n",
    "print(\"X Test:\", X_test.shape)"
   ]
  },
  {
   "cell_type": "markdown",
   "metadata": {},
   "source": [
    "# 4. Training Model"
   ]
  },
  {
   "cell_type": "code",
   "execution_count": 14,
   "metadata": {},
   "outputs": [],
   "source": [
    "classifier = svm.SVC(kernel='linear')"
   ]
  },
  {
   "cell_type": "code",
   "execution_count": 15,
   "metadata": {},
   "outputs": [
    {
     "data": {
      "text/html": [
       "<style>#sk-container-id-1 {color: black;}#sk-container-id-1 pre{padding: 0;}#sk-container-id-1 div.sk-toggleable {background-color: white;}#sk-container-id-1 label.sk-toggleable__label {cursor: pointer;display: block;width: 100%;margin-bottom: 0;padding: 0.3em;box-sizing: border-box;text-align: center;}#sk-container-id-1 label.sk-toggleable__label-arrow:before {content: \"▸\";float: left;margin-right: 0.25em;color: #696969;}#sk-container-id-1 label.sk-toggleable__label-arrow:hover:before {color: black;}#sk-container-id-1 div.sk-estimator:hover label.sk-toggleable__label-arrow:before {color: black;}#sk-container-id-1 div.sk-toggleable__content {max-height: 0;max-width: 0;overflow: hidden;text-align: left;background-color: #f0f8ff;}#sk-container-id-1 div.sk-toggleable__content pre {margin: 0.2em;color: black;border-radius: 0.25em;background-color: #f0f8ff;}#sk-container-id-1 input.sk-toggleable__control:checked~div.sk-toggleable__content {max-height: 200px;max-width: 100%;overflow: auto;}#sk-container-id-1 input.sk-toggleable__control:checked~label.sk-toggleable__label-arrow:before {content: \"▾\";}#sk-container-id-1 div.sk-estimator input.sk-toggleable__control:checked~label.sk-toggleable__label {background-color: #d4ebff;}#sk-container-id-1 div.sk-label input.sk-toggleable__control:checked~label.sk-toggleable__label {background-color: #d4ebff;}#sk-container-id-1 input.sk-hidden--visually {border: 0;clip: rect(1px 1px 1px 1px);clip: rect(1px, 1px, 1px, 1px);height: 1px;margin: -1px;overflow: hidden;padding: 0;position: absolute;width: 1px;}#sk-container-id-1 div.sk-estimator {font-family: monospace;background-color: #f0f8ff;border: 1px dotted black;border-radius: 0.25em;box-sizing: border-box;margin-bottom: 0.5em;}#sk-container-id-1 div.sk-estimator:hover {background-color: #d4ebff;}#sk-container-id-1 div.sk-parallel-item::after {content: \"\";width: 100%;border-bottom: 1px solid gray;flex-grow: 1;}#sk-container-id-1 div.sk-label:hover label.sk-toggleable__label {background-color: #d4ebff;}#sk-container-id-1 div.sk-serial::before {content: \"\";position: absolute;border-left: 1px solid gray;box-sizing: border-box;top: 0;bottom: 0;left: 50%;z-index: 0;}#sk-container-id-1 div.sk-serial {display: flex;flex-direction: column;align-items: center;background-color: white;padding-right: 0.2em;padding-left: 0.2em;position: relative;}#sk-container-id-1 div.sk-item {position: relative;z-index: 1;}#sk-container-id-1 div.sk-parallel {display: flex;align-items: stretch;justify-content: center;background-color: white;position: relative;}#sk-container-id-1 div.sk-item::before, #sk-container-id-1 div.sk-parallel-item::before {content: \"\";position: absolute;border-left: 1px solid gray;box-sizing: border-box;top: 0;bottom: 0;left: 50%;z-index: -1;}#sk-container-id-1 div.sk-parallel-item {display: flex;flex-direction: column;z-index: 1;position: relative;background-color: white;}#sk-container-id-1 div.sk-parallel-item:first-child::after {align-self: flex-end;width: 50%;}#sk-container-id-1 div.sk-parallel-item:last-child::after {align-self: flex-start;width: 50%;}#sk-container-id-1 div.sk-parallel-item:only-child::after {width: 0;}#sk-container-id-1 div.sk-dashed-wrapped {border: 1px dashed gray;margin: 0 0.4em 0.5em 0.4em;box-sizing: border-box;padding-bottom: 0.4em;background-color: white;}#sk-container-id-1 div.sk-label label {font-family: monospace;font-weight: bold;display: inline-block;line-height: 1.2em;}#sk-container-id-1 div.sk-label-container {text-align: center;}#sk-container-id-1 div.sk-container {/* jupyter's `normalize.less` sets `[hidden] { display: none; }` but bootstrap.min.css set `[hidden] { display: none !important; }` so we also need the `!important` here to be able to override the default hidden behavior on the sphinx rendered scikit-learn.org. See: https://github.com/scikit-learn/scikit-learn/issues/21755 */display: inline-block !important;position: relative;}#sk-container-id-1 div.sk-text-repr-fallback {display: none;}</style><div id=\"sk-container-id-1\" class=\"sk-top-container\"><div class=\"sk-text-repr-fallback\"><pre>SVC(kernel=&#x27;linear&#x27;)</pre><b>In a Jupyter environment, please rerun this cell to show the HTML representation or trust the notebook. <br />On GitHub, the HTML representation is unable to render, please try loading this page with nbviewer.org.</b></div><div class=\"sk-container\" hidden><div class=\"sk-item\"><div class=\"sk-estimator sk-toggleable\"><input class=\"sk-toggleable__control sk-hidden--visually\" id=\"sk-estimator-id-1\" type=\"checkbox\" checked><label for=\"sk-estimator-id-1\" class=\"sk-toggleable__label sk-toggleable__label-arrow\">SVC</label><div class=\"sk-toggleable__content\"><pre>SVC(kernel=&#x27;linear&#x27;)</pre></div></div></div></div></div>"
      ],
      "text/plain": [
       "SVC(kernel='linear')"
      ]
     },
     "execution_count": 15,
     "metadata": {},
     "output_type": "execute_result"
    }
   ],
   "source": [
    "# Training The Classifier\n",
    "classifier.fit(X_train, Y_train)"
   ]
  },
  {
   "cell_type": "markdown",
   "metadata": {},
   "source": [
    "# 5. Evaluating The Model"
   ]
  },
  {
   "cell_type": "code",
   "execution_count": 16,
   "metadata": {},
   "outputs": [],
   "source": [
    "# Accuracy score on the training Data\n",
    "X_train_Prediction = classifier.predict(X_train)\n",
    "training_data_accuracy = accuracy_score(X_train_Prediction, Y_train)"
   ]
  },
  {
   "cell_type": "code",
   "execution_count": 17,
   "metadata": {},
   "outputs": [
    {
     "name": "stdout",
     "output_type": "stream",
     "text": [
      "Accuracy Score of the training Data: 0.9937106918238994\n"
     ]
    }
   ],
   "source": [
    "print(\"Accuracy Score of the training Data:\", training_data_accuracy)"
   ]
  },
  {
   "cell_type": "markdown",
   "metadata": {},
   "source": [
    "# 6. Making Predicition System"
   ]
  },
  {
   "cell_type": "code",
   "execution_count": 18,
   "metadata": {},
   "outputs": [
    {
     "name": "stdout",
     "output_type": "stream",
     "text": [
      "[0]\n",
      "Normal Data\n"
     ]
    },
    {
     "name": "stderr",
     "output_type": "stream",
     "text": [
      "c:\\Users\\MWAMBA\\anaconda3\\envs\\anom_detect\\lib\\site-packages\\sklearn\\base.py:464: UserWarning: X does not have valid feature names, but SVC was fitted with feature names\n",
      "  warnings.warn(\n"
     ]
    }
   ],
   "source": [
    "# Input Test Data\n",
    "# real ExhGasInletTempA\treal ExhGasOutletTemp\treal LOInletPress\treal LOOutletTemp\treal RPM\n",
    "\n",
    "#input_Test_Data = (7, 3.5, 3.595, 5.25, 50.0) \n",
    "input_Test_Data = (328.0, 318.5, 3.260, 72.50, 11580.0) \n",
    "\n",
    "# Changing the input Data to numpy array\n",
    "input_Test_Data_As_Numpy_Array = np.asarray(input_Test_Data)\n",
    "\n",
    "# Reshape the array as we are predicting for one Instance\n",
    "input_Test_Data_Reshaped = input_Test_Data_As_Numpy_Array.reshape(1, -1)\n",
    "\n",
    "prediction = classifier.predict(input_Test_Data_Reshaped)\n",
    "print(prediction)\n",
    "\n",
    "if (prediction[0] == 0):\n",
    "    print(\"Normal Data\")\n",
    "else :\n",
    "    print(\"Anomaly Detected\")"
   ]
  },
  {
   "cell_type": "markdown",
   "metadata": {},
   "source": [
    "# 7. Saving The Model"
   ]
  },
  {
   "cell_type": "code",
   "execution_count": 19,
   "metadata": {},
   "outputs": [],
   "source": [
    "import pickle"
   ]
  },
  {
   "cell_type": "code",
   "execution_count": 20,
   "metadata": {},
   "outputs": [],
   "source": [
    "filename = 'Data/trained_model.sav'\n",
    "pickle.dump(classifier, open(filename, 'wb'))"
   ]
  },
  {
   "cell_type": "code",
   "execution_count": 21,
   "metadata": {},
   "outputs": [],
   "source": [
    "# Loading the saved Model\n",
    "loaded_model = pickle.load(open('Data/trained_model.sav', 'rb'))"
   ]
  },
  {
   "cell_type": "code",
   "execution_count": 22,
   "metadata": {},
   "outputs": [
    {
     "name": "stdout",
     "output_type": "stream",
     "text": [
      "[0]\n",
      "Normal Data\n"
     ]
    },
    {
     "name": "stderr",
     "output_type": "stream",
     "text": [
      "c:\\Users\\MWAMBA\\anaconda3\\envs\\anom_detect\\lib\\site-packages\\sklearn\\base.py:464: UserWarning: X does not have valid feature names, but SVC was fitted with feature names\n",
      "  warnings.warn(\n"
     ]
    }
   ],
   "source": [
    "input_Test_Data = (7, 3.5, 3.595, 5.25, 50.0) \n",
    "#input_Test_Data = (328.0, 318.5, 3.260, 72.50, 11580.0) \n",
    "\n",
    "# Changing the input Data to numpy array\n",
    "input_Test_Data_As_Numpy_Array = np.asarray(input_Test_Data)\n",
    "\n",
    "# Reshape the array as we are predicting for one Instance\n",
    "input_Test_Data_Reshaped = input_Test_Data_As_Numpy_Array.reshape(1, -1)\n",
    "\n",
    "prediction = loaded_model.predict(input_Test_Data_Reshaped)\n",
    "print(prediction)\n",
    "\n",
    "if (prediction[0] == 0):\n",
    "    print(\"Normal Data\")\n",
    "else :\n",
    "    print(\"Anomaly Detected\")"
   ]
  }
 ],
 "metadata": {
  "kernelspec": {
   "display_name": "anom_detect",
   "language": "python",
   "name": "python3"
  },
  "language_info": {
   "codemirror_mode": {
    "name": "ipython",
    "version": 3
   },
   "file_extension": ".py",
   "mimetype": "text/x-python",
   "name": "python",
   "nbconvert_exporter": "python",
   "pygments_lexer": "ipython3",
   "version": "3.10.12"
  },
  "orig_nbformat": 4
 },
 "nbformat": 4,
 "nbformat_minor": 2
}
