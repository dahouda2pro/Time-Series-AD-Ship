{
 "cells": [
  {
   "cell_type": "markdown",
   "metadata": {},
   "source": [
    "# 1. Importing some Libraries"
   ]
  },
  {
   "cell_type": "code",
   "execution_count": null,
   "metadata": {},
   "outputs": [],
   "source": [
    "import numpy as np\n",
    "import pandas as pd\n",
    "from influxdb import InfluxDBClient\n",
    "from datetime import datetime\n",
    "from sklearn.preprocessing import MinMaxScaler\n",
    "from sklearn.preprocessing import StandardScaler\n",
    "import seaborn as sns\n",
    "import plotly.graph_objects as go\n",
    "from sklearn.ensemble import IsolationForest\n",
    "import matplotlib.pyplot as plt\n",
    "\n",
    "import holoviews as hv\n",
    "from holoviews import opts\n",
    "hv.extension('bokeh')\n",
    "\n",
    "\n",
    "from tensorflow.keras.layers import Input, Dropout, Dense, LSTM, TimeDistributed, RepeatVector\n",
    "from tensorflow.keras.models import Model\n",
    "from tensorflow.keras import regularizers\n",
    "from tensorflow.keras.models import Sequential\n",
    "from sklearn import metrics\n",
    "import tensorflow as tf\n",
    "import keras.backend as K\n",
    "import matplotlib.pyplot as plt\n",
    "\n",
    "pd.set_option('display.max_rows', 15)\n",
    "pd.set_option('display.max_columns', None)\n",
    "pd.set_option('display.width', 1000)\n"
   ]
  },
  {
   "cell_type": "markdown",
   "metadata": {},
   "source": [
    "# 2. Fetching Data: DE2Thing_HMD8310"
   ]
  },
  {
   "cell_type": "code",
   "execution_count": null,
   "metadata": {},
   "outputs": [],
   "source": [
    "# Connect to InfluxDB and fetch data\n",
    "client = InfluxDBClient(host='localhost', port=8086)\n",
    "client.switch_database('ISS')\n",
    "\n",
    "# Query to the Database for one measurement\n",
    "\n",
    "#query1 = 'SELECT * FROM \"DE2Thing_HMD8310\"'\n",
    "query1 = 'SELECT * FROM \"DE2Thing_HMD8310\" WHERE time >= \\'2022-08-29T23:28:00Z\\' AND time < \\'2023-04-26T08:00:00Z\\''\n",
    "#query1 = 'SELECT * FROM \"DE1Thing_HMD8310\" WHERE time >= \\'2022-09-30T00:00:00Z\\' AND time < \\'2022-10-30T23:59:00Z\\''\n",
    "results1 = client.query(query1)\n",
    "DE2Thing_HMD8310 = pd.DataFrame.from_records(results1.get_points())\n",
    "\n",
    "print(DE2Thing_HMD8310.shape)\n",
    "DE2Thing_HMD8310.head(2)"
   ]
  },
  {
   "cell_type": "code",
   "execution_count": null,
   "metadata": {},
   "outputs": [],
   "source": [
    "print(DE2Thing_HMD8310.columns.to_list())"
   ]
  },
  {
   "cell_type": "code",
   "execution_count": null,
   "metadata": {},
   "outputs": [],
   "source": [
    "DE2Thing_HMD8310.to_csv(\"../Data/DE2Thing_HMD8310.csv\")"
   ]
  },
  {
   "cell_type": "code",
   "execution_count": null,
   "metadata": {},
   "outputs": [],
   "source": [
    "# Function to convert ISO 8601 time to datetime\n",
    "def ISO_8601_To_Datetime(s):\n",
    "    return datetime.strptime(s, '%Y-%m-%dT%H:%M:%SZ')"
   ]
  },
  {
   "cell_type": "code",
   "execution_count": null,
   "metadata": {},
   "outputs": [],
   "source": [
    "# Read The data\n",
    "df = pd.read_csv('../Data/DE2Thing_HMD8310.csv', parse_dates=[1], index_col=0, date_parser=ISO_8601_To_Datetime)\n",
    "df.head()"
   ]
  },
  {
   "cell_type": "code",
   "execution_count": null,
   "metadata": {},
   "outputs": [],
   "source": [
    "df.isnull().sum()"
   ]
  },
  {
   "cell_type": "code",
   "execution_count": null,
   "metadata": {},
   "outputs": [],
   "source": [
    "df.info()"
   ]
  },
  {
   "cell_type": "code",
   "execution_count": null,
   "metadata": {},
   "outputs": [],
   "source": [
    "df.columns"
   ]
  },
  {
   "cell_type": "code",
   "execution_count": null,
   "metadata": {},
   "outputs": [],
   "source": [
    "# Select 9 Features :\n",
    "df_Ex_Gas_Temp = df.loc[:, ['time', 'GE2_EXH_GAS_TEMP_CYL_OUT_1_H_AL',\n",
    "                'GE2_EXH_GAS_TEMP_CYL_OUT_2_H_AL',\n",
    "                'GE2_EXH_GAS_TEMP_CYL_OUT_3_H_AL',\n",
    "                'GE2_EXH_GAS_TEMP_CYL_OUT_4_H_AL',\n",
    "                'GE2_EXH_GAS_TEMP_CYL_OUT_5_H_AL',\n",
    "                'GE2_EXH_GAS_TEMP_CYL_OUT_6_H_AL',\n",
    "                'GE2_EXH_GAS_TEMP_CYL_OUT_7_H_AL',\n",
    "                'GE2_EXH_GAS_TEMP_CYL_OUT_8_H_AL'\n",
    "                ]]\n",
    "\n",
    "print(df_Ex_Gas_Temp.shape)\n",
    "df_Ex_Gas_Temp.head(2)"
   ]
  },
  {
   "cell_type": "code",
   "execution_count": null,
   "metadata": {},
   "outputs": [],
   "source": [
    "df_Ex_Gas_Temp.isnull().sum()"
   ]
  },
  {
   "cell_type": "code",
   "execution_count": null,
   "metadata": {},
   "outputs": [],
   "source": [
    "df_Ex_Gas_Temp.dropna()"
   ]
  },
  {
   "cell_type": "code",
   "execution_count": null,
   "metadata": {},
   "outputs": [],
   "source": [
    "df_Ex_Gas_Temp.head(4)"
   ]
  },
  {
   "cell_type": "code",
   "execution_count": null,
   "metadata": {},
   "outputs": [],
   "source": [
    "\"\"\" # Select only 21 features\n",
    "df_CyExhGasOutletTemp = df.loc[:, ['time',\n",
    "                                   'CFWInletPress',\n",
    "                                   'CFWInletTemp',\n",
    "                                   'CFWOutletTempA',\n",
    "                                   'CFWOutletTempB',\n",
    "                                   'Cy1ExhGasOutletTemp',\n",
    "                                   'Cy2ExhGasOutletTemp',\n",
    "                                   'Cy3ExhGasOutletTemp',\n",
    "                                   'Cy4ExhGasOutletTemp',\n",
    "                                   'Cy5ExhGasOutletTemp',\n",
    "                                   'Cy6ExhGasOutletTemp',\n",
    "                                   'Cy7ExhGasOutletTemp',\n",
    "                                   'Cy8ExhGasOutletTemp',\n",
    "                                   'Cy9ExhGasOutletTemp',\n",
    "                                   'FGTemperature',\n",
    "                                   'FOInletPress',\n",
    "                                   'FOInletTemp',\n",
    "                                   'InletAirTemp',\n",
    "                                   'LOInletTemp',\n",
    "                                   'ScavPress',\n",
    "                                   'ScavTemp']]\n",
    "df_CyExhGasOutletTemp.head(2)\n",
    " \"\"\"\n",
    "\n",
    "df_CyExhGasOutletTemp = df.loc[:, ['time',\n",
    "                                   'Cy1ExhGasOutletTemp',\n",
    "                                   'Cy2ExhGasOutletTemp',\n",
    "                                   'Cy3ExhGasOutletTemp',\n",
    "                                   'Cy4ExhGasOutletTemp',\n",
    "                                   'Cy5ExhGasOutletTemp',\n",
    "                                   'Cy6ExhGasOutletTemp',\n",
    "                                   'Cy7ExhGasOutletTemp',\n",
    "                                   'Cy8ExhGasOutletTemp',\n",
    "                                   'Cy9ExhGasOutletTemp'\n",
    "                                   ]]\n",
    "df_CyExhGasOutletTemp.head(2)"
   ]
  },
  {
   "cell_type": "code",
   "execution_count": null,
   "metadata": {},
   "outputs": [],
   "source": [
    "df_CyExhGasOutletTemp.isnull().sum()"
   ]
  },
  {
   "cell_type": "code",
   "execution_count": null,
   "metadata": {},
   "outputs": [],
   "source": [
    "df_CyExhGasOutletTemp.dropna()"
   ]
  },
  {
   "cell_type": "code",
   "execution_count": null,
   "metadata": {},
   "outputs": [],
   "source": [
    "df_CyExhGasOutletTemp.isnull().sum()"
   ]
  },
  {
   "cell_type": "code",
   "execution_count": null,
   "metadata": {},
   "outputs": [],
   "source": [
    "df_CyExhGasOutletTemp = df_CyExhGasOutletTemp.fillna(df_CyExhGasOutletTemp.mean())"
   ]
  },
  {
   "cell_type": "code",
   "execution_count": null,
   "metadata": {},
   "outputs": [],
   "source": [
    "df_CyExhGasOutletTemp.isnull().sum()"
   ]
  },
  {
   "cell_type": "code",
   "execution_count": null,
   "metadata": {},
   "outputs": [],
   "source": [
    "# Checking for blank values and Data Types.\n",
    "def overview(df_CyExhGasOutletTemp: pd.DataFrame, timestamp_col: str= None) -> None:\n",
    "    print('Null Count:\\n', df_CyExhGasOutletTemp.isnull().sum(), '\\n')\n",
    "    print('Data Types:\\n:', df_CyExhGasOutletTemp.dtypes)\n",
    "    \n",
    "    if timestamp_col is not None:\n",
    "        print('\\nDate Range: \\n\\nStart:\\t', df_CyExhGasOutletTemp[timestamp_col].min())\n",
    "        print('End:\\t', df_CyExhGasOutletTemp[timestamp_col].max())\n",
    "        print('Days:\\t',(df_CyExhGasOutletTemp[timestamp_col].max() - df_CyExhGasOutletTemp[timestamp_col].min()))"
   ]
  },
  {
   "cell_type": "code",
   "execution_count": null,
   "metadata": {},
   "outputs": [],
   "source": [
    "overview(df_CyExhGasOutletTemp, timestamp_col='time')"
   ]
  },
  {
   "cell_type": "code",
   "execution_count": null,
   "metadata": {},
   "outputs": [],
   "source": [
    "df_CyExhGasOutletTemp"
   ]
  },
  {
   "cell_type": "code",
   "execution_count": null,
   "metadata": {},
   "outputs": [],
   "source": [
    "fig = go.Figure()\n",
    "\n",
    "fig.add_trace(go.Scatter(x=df_CyExhGasOutletTemp[\"time\"], y=df_CyExhGasOutletTemp[\"Cy1ExhGasOutletTemp\"], mode='lines', name='Cy1ExhGasOutletTemp'))\n",
    "\n",
    "fig.add_trace(go.Scatter(x=df_CyExhGasOutletTemp[\"time\"], y=df_CyExhGasOutletTemp[\"Cy2ExhGasOutletTemp\"], mode='lines', name='Cy2ExhGasOutletTemp', yaxis='y2'))\n",
    "\n",
    "fig.update_layout(title_text=\"Cy1ExhGasOutletTemp vs Cy2ExhGasOutletTemp\",\n",
    "                  yaxis1=dict(title=\"Cy1ExhGasOutletTemp\", side='left'),\n",
    "                  yaxis2=dict(title=\"Cy2ExhGasOutletTemp\", side='right', anchor=\"x\", overlaying=\"y\")\n",
    "                  )\n",
    "\n",
    "fig.show()"
   ]
  },
  {
   "cell_type": "code",
   "execution_count": null,
   "metadata": {},
   "outputs": [],
   "source": [
    "fig = go.Figure()\n",
    "\n",
    "fig.add_trace(go.Scatter(x=df_CyExhGasOutletTemp[\"time\"], y=df_CyExhGasOutletTemp[\"Cy3ExhGasOutletTemp\"], mode='lines', name='Cy3ExhGasOutletTemp'))\n",
    "\n",
    "\n",
    "fig.add_trace(go.Scatter(x=df_CyExhGasOutletTemp[\"time\"], y=df_CyExhGasOutletTemp[\"Cy4ExhGasOutletTemp\"], mode='lines', name='Cy4ExhGasOutletTemp', yaxis='y2'))\n",
    "\n",
    "fig.update_layout(title_text=\"Cy3ExhGasOutletTemp vs Cy4ExhGasOutletTemp\",\n",
    "                  yaxis1=dict(title=\"Cy3ExhGasOutletTemp\", side='left'),\n",
    "                  yaxis2=dict(title=\"Cy4ExhGasOutletTemp\", side='right', anchor=\"x\", overlaying=\"y\")\n",
    "                  )\n",
    "\n",
    "fig.show()"
   ]
  },
  {
   "cell_type": "code",
   "execution_count": null,
   "metadata": {},
   "outputs": [],
   "source": [
    "fig = go.Figure()\n",
    "\n",
    "fig.add_trace(go.Scatter(x=df_CyExhGasOutletTemp[\"time\"], y=df_CyExhGasOutletTemp[\"Cy5ExhGasOutletTemp\"], mode='lines', name='Cy5ExhGasOutletTemp'))\n",
    "\n",
    "fig.add_trace(go.Scatter(x=df_CyExhGasOutletTemp[\"time\"], y=df_CyExhGasOutletTemp[\"Cy6ExhGasOutletTemp\"], mode='lines', name='Cy6ExhGasOutletTemp', yaxis='y2'))\n",
    "\n",
    "fig.update_layout(title_text=\"Cy5ExhGasOutletTemp vs Cy6ExhGasOutletTemp\",\n",
    "                  yaxis1=dict(title=\"Cy5ExhGasOutletTemp\", side='left'),\n",
    "                  yaxis2=dict(title=\"Cy6ExhGasOutletTemp\", side='right', anchor=\"x\", overlaying=\"y\")\n",
    "                  )\n",
    "\n",
    "fig.show()"
   ]
  },
  {
   "cell_type": "code",
   "execution_count": null,
   "metadata": {},
   "outputs": [],
   "source": [
    "fig = go.Figure()\n",
    "\n",
    "fig.add_trace(go.Scatter(x=df_CyExhGasOutletTemp[\"time\"], y=df_CyExhGasOutletTemp[\"Cy7ExhGasOutletTemp\"], mode='lines', name='Cy7ExhGasOutletTemp'))\n",
    "\n",
    "fig.add_trace(go.Scatter(x=df_CyExhGasOutletTemp[\"time\"], y=df_CyExhGasOutletTemp[\"Cy8ExhGasOutletTemp\"], mode='lines', name='Cy8ExhGasOutletTemp', yaxis='y2'))\n",
    "\n",
    "fig.update_layout(title_text=\"Cy7ExhGasOutletTemp vs Cy7ExhGasOutletTemp\",\n",
    "                  yaxis1=dict(title=\"Cy7ExhGasOutletTemp\", side='left'),\n",
    "                  yaxis2=dict(title=\"Cy8ExhGasOutletTemp\", side='right', anchor=\"x\", overlaying=\"y\")\n",
    "                  )\n",
    "\n",
    "fig.show()"
   ]
  },
  {
   "cell_type": "code",
   "execution_count": null,
   "metadata": {},
   "outputs": [],
   "source": [
    "fig = go.Figure()\n",
    "\n",
    "fig.add_trace(go.Scatter(x=df_CyExhGasOutletTemp[\"time\"], y=df_CyExhGasOutletTemp[\"Cy8ExhGasOutletTemp\"], mode='lines', name='Cy8ExhGasOutletTemp'))\n",
    "\n",
    "fig.add_trace(go.Scatter(x=df_CyExhGasOutletTemp[\"time\"], y=df_CyExhGasOutletTemp[\"Cy9ExhGasOutletTemp\"], mode='lines', name='Cy9ExhGasOutletTemp', yaxis='y2'))\n",
    "\n",
    "fig.update_layout(title_text=\"Cy8ExhGasOutletTemp vs Cy9ExhGasOutletTemp\",\n",
    "                  yaxis1=dict(title=\"Cy8ExhGasOutletTemp\", side='left'),\n",
    "                  yaxis2=dict(title=\"Cy9ExhGasOutletTemp\", side='right', anchor=\"x\", overlaying=\"y\")\n",
    "                  )\n",
    "\n",
    "fig.show()"
   ]
  },
  {
   "cell_type": "code",
   "execution_count": null,
   "metadata": {},
   "outputs": [],
   "source": [
    "df_CyExhGasOutletTemp"
   ]
  },
  {
   "cell_type": "markdown",
   "metadata": {},
   "source": [
    "# LSTM Autoencoder"
   ]
  },
  {
   "cell_type": "markdown",
   "metadata": {},
   "source": [
    "## Split The Data into Train and Test Set"
   ]
  },
  {
   "cell_type": "code",
   "execution_count": null,
   "metadata": {},
   "outputs": [],
   "source": [
    "#df = df.loc[:2000,:]\n",
    "df_CyExhGasOutletTemp = df_CyExhGasOutletTemp.loc[:, ['time',\n",
    "                                                      'Cy1ExhGasOutletTemp',\n",
    "                                                      'Cy2ExhGasOutletTemp',\n",
    "                                                      'Cy3ExhGasOutletTemp',\n",
    "                                                      'Cy4ExhGasOutletTemp',\n",
    "                                                      'Cy5ExhGasOutletTemp',\n",
    "                                                      'Cy6ExhGasOutletTemp',\n",
    "                                                      'Cy7ExhGasOutletTemp',\n",
    "                                                      'Cy8ExhGasOutletTemp',\n",
    "                                                      'Cy9ExhGasOutletTemp'\n",
    "                                                      ]\n",
    "                                                  ]\n",
    "df_timestamp = df_CyExhGasOutletTemp[['time']]\n",
    "df_ = df_CyExhGasOutletTemp[['Cy1ExhGasOutletTemp',\n",
    "                             'Cy2ExhGasOutletTemp',\n",
    "                             'Cy3ExhGasOutletTemp',\n",
    "                             'Cy4ExhGasOutletTemp',\n",
    "                             'Cy5ExhGasOutletTemp',\n",
    "                             'Cy6ExhGasOutletTemp',\n",
    "                             'Cy7ExhGasOutletTemp',\n",
    "                             'Cy8ExhGasOutletTemp',\n",
    "                             'Cy9ExhGasOutletTemp'\n",
    "                             ]]\n",
    "df_CyExhGasOutletTemp.shape\n"
   ]
  },
  {
   "cell_type": "code",
   "execution_count": null,
   "metadata": {},
   "outputs": [],
   "source": [
    "train_prp = .8\n",
    "train = df_.loc[:df_.shape[0] * train_prp]\n",
    "test = df_.loc[df_.shape[0] * train_prp:]"
   ]
  },
  {
   "cell_type": "code",
   "execution_count": null,
   "metadata": {},
   "outputs": [],
   "source": [
    "train"
   ]
  },
  {
   "cell_type": "code",
   "execution_count": null,
   "metadata": {},
   "outputs": [],
   "source": [
    "test"
   ]
  },
  {
   "cell_type": "markdown",
   "metadata": {},
   "source": [
    "## Feature Scaling"
   ]
  },
  {
   "cell_type": "code",
   "execution_count": null,
   "metadata": {},
   "outputs": [],
   "source": [
    "# Standardize The Data\n",
    "scaler = StandardScaler()\n",
    "X_train = scaler.fit_transform(train)\n",
    "X_test = scaler.transform(test)\n",
    "\n",
    "print(\"X train Shape:\", X_train.shape)\n",
    "print(\"X test Shape:\", X_test.shape)"
   ]
  },
  {
   "cell_type": "code",
   "execution_count": null,
   "metadata": {},
   "outputs": [],
   "source": [
    "# Reshape the Dimension of the Train and Test set for LSTM Model\n",
    "X_train = X_train.reshape((X_train.shape[0], 1, X_train.shape[1]))\n",
    "X_test = X_test.reshape(X_test.shape[0], 1, X_test.shape[1])\n",
    "\n",
    "print(\"X train Shape:\", X_train.shape)\n",
    "print(\"X test Shape:\", X_test.shape)"
   ]
  },
  {
   "cell_type": "code",
   "execution_count": null,
   "metadata": {},
   "outputs": [],
   "source": [
    "def autoencoder_model(X):\n",
    "    # The Encoder\n",
    "    inputs = Input(shape=(X.shape[1],  X.shape[2]))\n",
    "    L1 = LSTM(16, activation='relu', return_sequences=True, kernel_regularizer=regularizers.l2(0.00))(inputs)\n",
    "    L2 = LSTM(4, activation='relu', return_sequences=False)(L1)\n",
    "    \n",
    "    L3 = RepeatVector(X.shape[1])(L2)\n",
    "    \n",
    "    # The Decoder\n",
    "    L4 = LSTM(4, activation='relu', return_sequences=True)(L3)\n",
    "    L5 = LSTM(16, activation='relu', return_sequences=True)(L4)\n",
    "    output = TimeDistributed(Dense(X.shape[2]))(L5)\n",
    "    model = Model(inputs=inputs, outputs=output)\n",
    "    return model"
   ]
  },
  {
   "cell_type": "code",
   "execution_count": null,
   "metadata": {},
   "outputs": [],
   "source": [
    "model = autoencoder_model(X_train)\n",
    "model.compile(optimizer='adam', loss='mae', metrics=['accuracy'])\n",
    "model.summary()"
   ]
  },
  {
   "cell_type": "code",
   "execution_count": null,
   "metadata": {},
   "outputs": [],
   "source": [
    "epochs = 15\n",
    "batch = 25\n",
    "history = model.fit(X_train, X_train, epochs=epochs, batch_size=batch, validation_split=.2, verbose=1).history"
   ]
  },
  {
   "cell_type": "code",
   "execution_count": null,
   "metadata": {},
   "outputs": [],
   "source": [
    "fig = go.Figure()\n",
    "\n",
    "fig.add_trace(go.Scatter(x=[x for x in range(len(history['loss']))], y=history['loss'], mode='lines', name='loss'))\n",
    "\n",
    "fig.add_trace(go.Scatter(x=[x for x in range(len(history['val_loss']))], y=history['val_loss'], mode='lines', name='validation loss'))\n",
    "\n",
    "fig.update_layout(title=\"Autoencoder error loss over epochs\", yaxis=dict(title=\"Loss\"), xaxis=dict(title=\"Epoch\"))\n",
    "\n",
    "fig.show()"
   ]
  },
  {
   "cell_type": "code",
   "execution_count": null,
   "metadata": {},
   "outputs": [],
   "source": [
    "# Check how loss & mse went down\n",
    "epoch_loss = history['loss']\n",
    "epoch_val_loss = history['val_loss']\n",
    "epoch_mae = history['accuracy']\n",
    "epoch_val_mae = history['val_accuracy']\n",
    "\n",
    "plt.figure(figsize=(8,5))\n",
    "plt.plot(range(0,len(epoch_loss)), epoch_loss, 'b-', linewidth=2, label='Train Loss')\n",
    "plt.plot(range(0,len(epoch_val_loss)), epoch_val_loss, 'r-', linewidth=2, label='Test Loss')\n",
    "plt.xlabel(\"Epochs\")\n",
    "plt.ylabel(\"Loss\")\n",
    "\n",
    "#lt.title('Loss')\n",
    "plt.legend(loc='best')\n",
    "plt.savefig('Figure_Loss_LSTM_AE_Cyl.jpeg')\n",
    "plt.show()"
   ]
  },
  {
   "cell_type": "code",
   "execution_count": null,
   "metadata": {},
   "outputs": [],
   "source": [
    "# Check how loss & mse went down\n",
    "epoch_loss = history['loss']\n",
    "epoch_val_loss = history['val_loss']\n",
    "epoch_mae = history['accuracy']\n",
    "epoch_val_mae = history['val_accuracy']\n",
    "\n",
    "plt.figure(figsize=(8,5))\n",
    "\n",
    "plt.plot(range(0,len(epoch_mae)), epoch_mae, 'b-', linewidth=2, label='Train Acc')\n",
    "plt.plot(range(0,len(epoch_val_mae)), epoch_val_mae, 'r-', linewidth=2,label='Test Acc')\n",
    "plt.xlabel(\"Epochs\")\n",
    "plt.ylabel(\"Accuracy\")\n",
    "#plt.title('Accuracy')\n",
    "plt.legend(loc='lower right')\n",
    "\n",
    "plt.savefig('Figure_Acc_LSTM_AE_Cyl.jpeg')\n",
    "plt.show()"
   ]
  },
  {
   "cell_type": "markdown",
   "metadata": {},
   "source": [
    "# Saving The Model"
   ]
  },
  {
   "cell_type": "code",
   "execution_count": null,
   "metadata": {},
   "outputs": [],
   "source": [
    "# Save the model and architecture to single file\n",
    "model.save('Generator_Engine-LSTM_AE_Cyl_model.h5')\n",
    "print(\"Model Saved to a Disk\")"
   ]
  }
 ],
 "metadata": {
  "interpreter": {
   "hash": "9309e66488dead2b3ef50f8102e1dacf5788aeb67c8de09ce5afbc9fc543d825"
  },
  "kernelspec": {
   "display_name": "Python 3 (ipykernel)",
   "language": "python",
   "name": "python3"
  },
  "language_info": {
   "codemirror_mode": {
    "name": "ipython",
    "version": 3
   },
   "file_extension": ".py",
   "mimetype": "text/x-python",
   "name": "python",
   "nbconvert_exporter": "python",
   "pygments_lexer": "ipython3",
   "version": "3.10.12"
  }
 },
 "nbformat": 4,
 "nbformat_minor": 2
}
