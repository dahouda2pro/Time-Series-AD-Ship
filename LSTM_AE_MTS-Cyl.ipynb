{
 "cells": [
  {
   "cell_type": "markdown",
   "metadata": {},
   "source": [
    "# 1. Importing some Libraries"
   ]
  },
  {
   "cell_type": "code",
   "execution_count": null,
   "metadata": {},
   "outputs": [],
   "source": [
    "import numpy as np\n",
    "import pandas as pd\n",
    "from influxdb import InfluxDBClient\n",
    "from datetime import datetime\n",
    "from sklearn.preprocessing import MinMaxScaler\n",
    "from sklearn.preprocessing import StandardScaler\n",
    "import seaborn as sns\n",
    "import plotly.graph_objects as go\n",
    "from sklearn.ensemble import IsolationForest\n",
    "import matplotlib.pyplot as plt\n",
    "\n",
    "import holoviews as hv\n",
    "from holoviews import opts\n",
    "hv.extension('bokeh')\n",
    "\n",
    "\n",
    "from tensorflow.keras.layers import Input, Dropout, Dense, LSTM, TimeDistributed, RepeatVector\n",
    "from tensorflow.keras.models import Model\n",
    "from tensorflow.keras import regularizers\n",
    "from tensorflow.keras.models import Sequential\n",
    "from sklearn import metrics\n",
    "import tensorflow as tf\n",
    "import keras.backend as K\n",
    "import matplotlib.pyplot as plt\n",
    "\n",
    "pd.set_option('display.max_rows', 15)\n",
    "pd.set_option('display.max_columns', None)\n",
    "pd.set_option('display.width', 1000)\n"
   ]
  },
  {
   "cell_type": "markdown",
   "metadata": {},
   "source": [
    "# 2. Fetching Data: DE1Thing_HMD8310"
   ]
  },
  {
   "cell_type": "code",
   "execution_count": null,
   "metadata": {},
   "outputs": [],
   "source": [
    "# Connect to InfluxDB and fetch data\n",
    "client = InfluxDBClient(host='localhost', port=8086)\n",
    "client.switch_database('ISS')\n",
    "\n",
    "# Query to the Database for one measurement\n",
    "\n",
    "query1 = 'SELECT * FROM \"DE1Thing_HMD8310\"'\n",
    "#query1 = 'SELECT * FROM \"DE1Thing_HMD8310\" WHERE time >= \\'2022-08-29T23:28:00Z\\' AND time < \\'2023-01-26T08:00:00Z\\''\n",
    "#query1 = 'SELECT * FROM \"DE1Thing_HMD8310\" WHERE time >= \\'2022-09-30T00:00:00Z\\' AND time < \\'2022-10-30T23:59:00Z\\''\n",
    "results1 = client.query(query1)\n",
    "DE1Thing_HMD8310 = pd.DataFrame.from_records(results1.get_points())\n",
    "\n",
    "print(DE1Thing_HMD8310.shape)\n",
    "DE1Thing_HMD8310.head(2)"
   ]
  },
  {
   "cell_type": "code",
   "execution_count": null,
   "metadata": {},
   "outputs": [],
   "source": [
    "DE1Thing_HMD8310.to_csv(\"Data/DE1Thing_HMD8310.csv\")"
   ]
  },
  {
   "cell_type": "code",
   "execution_count": null,
   "metadata": {},
   "outputs": [],
   "source": [
    "# Function to convert ISO 8601 time to datetime\n",
    "def ISO_8601_To_Datetime(s):\n",
    "    return datetime.strptime(s, '%Y-%m-%dT%H:%M:%SZ')"
   ]
  },
  {
   "cell_type": "code",
   "execution_count": null,
   "metadata": {},
   "outputs": [],
   "source": [
    "# Read The data\n",
    "df = pd.read_csv('Data/DE1Thing_HMD8310.csv', parse_dates=[1], index_col=0, date_parser=ISO_8601_To_Datetime)\n",
    "df.head(2)"
   ]
  },
  {
   "cell_type": "code",
   "execution_count": null,
   "metadata": {},
   "outputs": [],
   "source": [
    "df.info()"
   ]
  },
  {
   "cell_type": "code",
   "execution_count": null,
   "metadata": {},
   "outputs": [],
   "source": [
    "df.columns"
   ]
  },
  {
   "cell_type": "code",
   "execution_count": null,
   "metadata": {},
   "outputs": [],
   "source": [
    "# Select only 21 features\n",
    "df = df.loc[:, ['time',\n",
    "                'CFWInletPress',\n",
    "                'CFWInletTemp', \n",
    "                'CFWOutletTempA', \n",
    "                'CFWOutletTempB',\n",
    "                'Cy1ExhGasOutletTemp',\n",
    "                'Cy2ExhGasOutletTemp',\n",
    "                'Cy3ExhGasOutletTemp',\n",
    "                'Cy4ExhGasOutletTemp',\n",
    "                'Cy5ExhGasOutletTemp',\n",
    "                'Cy6ExhGasOutletTemp',\n",
    "                'Cy7ExhGasOutletTemp',\n",
    "                'Cy8ExhGasOutletTemp',\n",
    "                'Cy9ExhGasOutletTemp',\n",
    "                'FGTemperature',\n",
    "                'FOInletPress',\n",
    "                'FOInletTemp',\n",
    "                'InletAirTemp',\n",
    "                'LOInletTemp',\n",
    "                'ScavPress',\n",
    "                'ScavTemp']]\n",
    "df.head(2)"
   ]
  },
  {
   "cell_type": "code",
   "execution_count": null,
   "metadata": {},
   "outputs": [],
   "source": [
    "df.isnull().sum()"
   ]
  },
  {
   "cell_type": "code",
   "execution_count": null,
   "metadata": {},
   "outputs": [],
   "source": [
    "df.dropna(inplace=True)"
   ]
  },
  {
   "cell_type": "code",
   "execution_count": null,
   "metadata": {},
   "outputs": [],
   "source": [
    "df.isnull().sum()"
   ]
  },
  {
   "cell_type": "code",
   "execution_count": null,
   "metadata": {},
   "outputs": [],
   "source": [
    "df"
   ]
  },
  {
   "cell_type": "code",
   "execution_count": null,
   "metadata": {},
   "outputs": [],
   "source": [
    "# Checking for blank values and Data Types.\n",
    "def overview(df: pd.DataFrame, timestamp_col: str= None) -> None:\n",
    "    print('Null Count:\\n', df.isnull().sum(), '\\n')\n",
    "    print('Data Types:\\n:', df.dtypes)\n",
    "    \n",
    "    if timestamp_col is not None:\n",
    "        print('\\nDate Range: \\n\\nStart:\\t', df[timestamp_col].min())\n",
    "        print('End:\\t', df[timestamp_col].max())\n",
    "        print('Days:\\t',(df[timestamp_col].max() - df[timestamp_col].min()))"
   ]
  },
  {
   "cell_type": "code",
   "execution_count": null,
   "metadata": {},
   "outputs": [],
   "source": [
    "overview(df, timestamp_col='time')"
   ]
  },
  {
   "cell_type": "code",
   "execution_count": null,
   "metadata": {},
   "outputs": [],
   "source": [
    "fig = go.Figure()\n",
    "\n",
    "fig.add_trace(go.Scatter(x=df[\"time\"], y=df[\"CFWInletPress\"], mode='lines', name='CFWInletPress'))\n",
    "\n",
    "fig.add_trace(go.Scatter(x=df[\"time\"], y=df[\"CFWInletTemp\"], mode='lines', name='CFWInletTemp', yaxis='y2'))\n",
    "\n",
    "fig.update_layout(title_text=\"CFWInletPress vs CFWInletTemp\",\n",
    "                  yaxis1=dict(title=\"CFWInletPress\", side='left'),\n",
    "                  yaxis2=dict(title=\"CFWInletTemp\", side='right', anchor=\"x\", overlaying=\"y\")\n",
    "                  )\n",
    "\n",
    "fig.show()"
   ]
  },
  {
   "cell_type": "code",
   "execution_count": null,
   "metadata": {},
   "outputs": [],
   "source": [
    "fig = go.Figure()\n",
    "\n",
    "fig.add_trace(go.Scatter(x=df[\"time\"], y=df[\"CFWInletPress\"], mode='lines', name='CFWInletPress'))\n",
    "\n",
    "\n",
    "fig.add_trace(go.Scatter(x=df[\"time\"], y=df[\"CFWOutletTempA\"], mode='lines', name='CFWOutletTempA', yaxis='y2'))\n",
    "\n",
    "fig.update_layout(title_text=\"CFWInletPress vs CFWOutletTempB\",\n",
    "                  yaxis1=dict(title=\"CFWInletPress\", side='left'),\n",
    "                  yaxis2=dict(title=\"CFWOutletTempB\", side='right', anchor=\"x\", overlaying=\"y\")\n",
    "                  )\n",
    "\n",
    "fig.show()"
   ]
  },
  {
   "cell_type": "code",
   "execution_count": null,
   "metadata": {},
   "outputs": [],
   "source": [
    "fig = go.Figure()\n",
    "\n",
    "fig.add_trace(go.Scatter(x=df[\"time\"], y=df[\"CFWOutletTempA\"], mode='lines', name='CFWOutletTempA'))\n",
    "fig.add_trace(go.Scatter(x=df[\"time\"], y=df[\"CFWOutletTempB\"], mode='lines', name='CFWOutletTempB', yaxis='y2'))\n",
    "fig.update_layout(title_text=\"CFWOutletTempA vs CFWOutletTempB\",\n",
    "                  yaxis1=dict(title=\"CFWOutletTempA\", side='left'),\n",
    "                  yaxis2=dict(title=\"CFWOutletTempB\", side='right', anchor=\"x\", overlaying=\"y\")\n",
    "                  )"
   ]
  },
  {
   "cell_type": "markdown",
   "metadata": {},
   "source": [
    "# Cylinder Analysis [1 - 9]"
   ]
  },
  {
   "cell_type": "code",
   "execution_count": null,
   "metadata": {},
   "outputs": [],
   "source": [
    "fig = go.Figure()\n",
    "\n",
    "fig.add_trace(go.Scatter(x=df[\"time\"], y=df[\"Cy1ExhGasOutletTemp\"], mode='lines', name='Cylinder 1'))\n",
    "fig.add_trace(go.Scatter(x=df[\"time\"], y=df[\"Cy2ExhGasOutletTemp\"], mode='lines', name='Cylinder 2', yaxis='y2'))\n",
    "fig.add_trace(go.Scatter(x=df[\"time\"], y=df[\"Cy3ExhGasOutletTemp\"], mode='lines', name='Cylinder 3', yaxis='y2'))\n",
    "fig.add_trace(go.Scatter(x=df[\"time\"], y=df[\"Cy4ExhGasOutletTemp\"], mode='lines', name='Cylinder 4', yaxis='y2'))\n",
    "fig.update_layout(title_text=\"Cylinders 1 vs 2 vs 3 vs 4\",\n",
    "                  yaxis1=dict(title=\"Cylinder Values\", side='left'),\n",
    "                  yaxis2=dict(title=\"\", side='right', anchor=\"x\", overlaying=\"y\")\n",
    "                  )"
   ]
  },
  {
   "cell_type": "code",
   "execution_count": null,
   "metadata": {},
   "outputs": [],
   "source": [
    "fig = go.Figure()\n",
    "\n",
    "fig.add_trace(go.Scatter(x=df[\"time\"], y=df[\"Cy5ExhGasOutletTemp\"], mode='lines', name='Cylinder 5'))\n",
    "fig.add_trace(go.Scatter(x=df[\"time\"], y=df[\"Cy6ExhGasOutletTemp\"], mode='lines', name='Cylinder 6', yaxis='y2'))\n",
    "fig.add_trace(go.Scatter(x=df[\"time\"], y=df[\"Cy7ExhGasOutletTemp\"], mode='lines', name='Cylinder 7', yaxis='y2'))\n",
    "fig.add_trace(go.Scatter(x=df[\"time\"], y=df[\"Cy8ExhGasOutletTemp\"], mode='lines', name='Cylinder 8', yaxis='y2'))\n",
    "fig.update_layout(title_text=\"Cylinders 5 vs 6 vs 7 vs 8\",\n",
    "                  yaxis1=dict(title=\"Cylinder Values\", side='left'),\n",
    "                  yaxis2=dict(title=\"\", side='right', anchor=\"x\", overlaying=\"y\")\n",
    "                  )"
   ]
  },
  {
   "cell_type": "markdown",
   "metadata": {},
   "source": [
    "# FOInletTemp\tInletAirTemp\tLOInletTemp"
   ]
  },
  {
   "cell_type": "code",
   "execution_count": null,
   "metadata": {},
   "outputs": [],
   "source": [
    "fig = go.Figure()\n",
    "\n",
    "fig.add_trace(go.Scatter(x=df[\"time\"], y=df[\"FOInletTemp\"], mode='lines', name='FOInletTemp'))\n",
    "fig.add_trace(go.Scatter(x=df[\"time\"], y=df[\"InletAirTemp\"], mode='lines', name='InletAirTemp', yaxis='y2'))\n",
    "fig.add_trace(go.Scatter(x=df[\"time\"], y=df[\"LOInletTemp\"], mode='lines', name='LOInletTemp', yaxis='y2'))\n",
    "\n",
    "fig.update_layout(title_text=\"FOInletTemp vs InletAirTemp vs LOInletTemp\",\n",
    "                  yaxis1=dict(title=\" Values\", side='left'),\n",
    "                  yaxis2=dict(title=\"\", side='right', anchor=\"x\", overlaying=\"y\")\n",
    "                  )"
   ]
  },
  {
   "cell_type": "markdown",
   "metadata": {},
   "source": [
    "# ScavPress vs\tScavTemp"
   ]
  },
  {
   "cell_type": "code",
   "execution_count": null,
   "metadata": {},
   "outputs": [],
   "source": [
    "fig = go.Figure()\n",
    "\n",
    "fig.add_trace(go.Scatter(x=df[\"time\"], y=df[\"ScavPress\"], mode='lines', name='ScavPress'))\n",
    "fig.add_trace(go.Scatter(x=df[\"time\"], y=df[\"ScavTemp\"], mode='lines', name='ScavTemp', yaxis='y2'))\n",
    "\n",
    "fig.update_layout(title_text=\"ScavPress vs ScavTemp\",\n",
    "                  yaxis1=dict(title=\" Values\", side='left'),\n",
    "                  yaxis2=dict(title=\"\", side='right', anchor=\"x\", overlaying=\"y\")\n",
    "                  )"
   ]
  }
 ],
 "metadata": {
  "interpreter": {
   "hash": "9309e66488dead2b3ef50f8102e1dacf5788aeb67c8de09ce5afbc9fc543d825"
  },
  "kernelspec": {
   "display_name": "Python 3 (ipykernel)",
   "language": "python",
   "name": "python3"
  },
  "language_info": {
   "codemirror_mode": {
    "name": "ipython",
    "version": 3
   },
   "file_extension": ".py",
   "mimetype": "text/x-python",
   "name": "python",
   "nbconvert_exporter": "python",
   "pygments_lexer": "ipython3",
   "version": "3.10.12"
  }
 },
 "nbformat": 4,
 "nbformat_minor": 2
}
